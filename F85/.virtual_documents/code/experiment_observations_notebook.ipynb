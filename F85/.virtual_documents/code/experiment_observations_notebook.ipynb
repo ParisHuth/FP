

















# Python code for plotting
import matplotlib.pyplot as plt
import numpy as np
from scipy.optimize import curve_fit

# Example plot
x = np.linspace(0, 10, 100)
y = np.sin(x)

plt.figure(figsize=(10, 6))
plt.plot(x, y)
plt.title('Example Plot')
plt.xlabel('X-axis')
plt.ylabel('Y-axis')
plt.grid(True)
plt.show()







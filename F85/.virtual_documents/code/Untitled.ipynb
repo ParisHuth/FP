import numpy as np
import matplotlib.pyplot as plt


t= np.arange(-np.pi,np.pi, 0.01)
a1 = 1
a2 = 1
p1 = np.pi/2
p2 = 0
f1 = 1
f2 = .5
x=a1 * np.sin(t*f1+p1)
y=a2*np.sin(t*f2+p2)
plt.plot(x,y)
plt.axis('equal')


t= np.arange(-np.pi,np.pi*2, 0.01)
a1 = 1
a2 = 1
p1 = np.pi/2
p2 = 0
f1 = 1
f2 = .5
x=a1 * np.sin(t*f1+p1)
y=a2*np.sin(t*f2+p2)
plt.plot(x,y)
plt.axis('equal')




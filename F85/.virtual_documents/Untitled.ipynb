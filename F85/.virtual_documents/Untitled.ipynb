









































import numpy as np
import matplotlib.pyplot as plt
from scipy.optimize import curve_fit

def linear_model(x, a, b):
    return a * x + b


Uin = np.array([0,0.1,0.2,0.3,0.5,0.6,0.8,1,1.2,1.5,2,2.7,3.5,2.4,4,4.8,5.1,5.5,5.8,6.1,6,5.9])
Uout = np.array([0.01,0.03,0.05,0.1,0.14,0.18,0.24,0.3,0.35,0.43,0.6,0.81,1.02,0.69,1.17,1.41,1.5,1.6,1.7,1.8,1.77,1.74])
dUin = np.ones(len(Uin))*0.1
dUout = np.ones(len(Uout))*0.01

sort_indices = np.argsort(Uin)

Uin = Uin[sort_indices]
Uout= Uout[sort_indices]

popt, pcov = curve_fit(linear_model, Uin, Uout)


plt.errorbar(Uin, Uout, dUin, dUout, linestyle = 'None', fmt='o', label='data')
plt.plot(Uin, linear_model(Uin, *popt), 'r-', label="Fit")

print('Versärkung: ' + str(round(popt[0]*1000,2)) + ' +/- ' + str(round(popt[1]*1000,2)))

plt.xlabel("U_in [V]")
plt.ylabel("U_out [kV]")
plt.grid()
plt.title("Spannungsübersetzung der Hochspannungsquelle")
plt.legend()





Ip90 = np.array([0.36,0.32,0.32,0.16,0.24,0.24,0.16,0.24,0.2,0.28,0.28,0.28])
Im90 = np.array([0.152,0.152,0.168,0.16,0.168,0.176,0.176,0.2,0.168,0.169])
Up90 = np.array([0.8,0.96,0.88,0.8,0.8,0.4,0.72,0.88,0.8,0.96,0.8,0.88])
Um90 = np.array([0.96,0.96,1.12,0.88,0.88,0.8,0.72,0.96,0.88,1.04])

mIp90 = np.mean(Ip90)
stdIp90 = np.std(Ip90)
mIm90 = np.mean(Im90)
stdIm90 = np.std(Im90)
mUp90 = np.mean(Up90)
stdUp90 = np.std(Up90)
mUm90 = np.mean(Um90)
stdUm90 = np.std(Um90)


print('I_p90: {:.2f} +/- {:.2f}'.format(mIp90, stdIp90))
print('U_p90: {:.2f} +/- {:.2f}'.format(mUp90, stdUp90) + '\n')
print('I_m90: {:.2f} +/- {:.2f}'.format(mIm90, stdIm90))
print('U_m90: {:.2f} +/- {:.2f}'.format(mUm90, stdUm90) + '\n')

stdI = np.sqrt(stdIp90**2 + stdIm90**2)
stdU = np.sqrt(stdUp90**2 + stdUm90**2)
devI = abs(mIp90 - mIm90)/stdI
devU = abs(mUp90 - mUm90)/stdU


print('deviation I: ' + str(devI))
print('deviation U: ' + str(devU))








Up45 = np.array([1.2,1.36,1.28,1.12,1.28,1.28,1.52,1.38])
Um45 = np.array([1.36,1.2,1.36,1.44,1.28,1.44])

mUp45 = np.mean(Up45)
stdUp45 = np.std(Up45)
mUm45 = np.mean(Um45)
stdUm45 = np.std(Um45)

print('U_p45: {:.2f} +/- {:.2f}'.format(mUp45, stdUp45) + '\n')
print('U_m45: {:.2f} +/- {:.2f}'.format(mUm45, stdUm45) + '\n')

stdU45 = np.sqrt(stdUp45**2 + stdUm45**2)
devU45 = abs(mUp45 - mUm45)/stdU45

print('deviation U: ' + str(devU45))













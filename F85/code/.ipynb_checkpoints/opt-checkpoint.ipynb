{
 "cells": [
  {
   "cell_type": "markdown",
   "id": "a017b9b5",
   "metadata": {},
   "source": [
    "# Physics Lab Notebook - Optics Experiments\n",
    "\n",
    "## Introduction\n",
    "This Jupyter Notebook is designed to guide you through the optics experiments, including polarization optics, the electro-optic effect, and the acousto-optic effect. It provides a structured way to record observations, data, and conclusions for each experiment."
   ]
  },
  {
   "cell_type": "markdown",
   "id": "81fd41de-5aca-48cc-89d4-71c077d1f3e4",
   "metadata": {},
   "source": [
    "## Experiment 1: Polarization Optics\n",
    "\n",
    "### Objective\n",
    "To understand and explore the principles of light polarization using polarizers and wave plates.\n",
    "\n",
    "### Theory\n",
    "Brief summary of linear, circular, and elliptical polarization. Explanation of how polarizers and wave plates work.\n",
    "- Brewster angle: $\\Theta_B = \\arctan\\left(\\frac{n_2}{n_1}\\right)$ has no reflection for light polarized in the plane of incidence. Reflected light is completely polarized.\n",
    "\n",
    "### Procedure\n",
    "1. Take a glass plate. Use it to partially reflect the incident laser light and find the Brewster’s angle\n",
    "2. Fix the position of the first glass plate at the Brewster’s angle. Take a second glass plate and use it to reflect the light coming from the first glass plate. Build it up such that the plane of incidence is perpendicular to the previous one.\n",
    "3. Take two polarizers and calibrate them. In order to calibrate them, you have to find the polarization axis. Use the reflected light at the first Brewster’s glass plate for such purpose.How can you set a reference to calibrate the polarization axis of polarizers and polarizing beam splitters (PBS)? Find a way based on the reflection properties of the light at a surface.\n",
    "4. Check if your laser is polarized.\n",
    "5. Find out how the light which is reflected by or passing through the beam splitters is polarized. How do they work? Calibrate the type of beam splitters and the type of polarization that they might induce.\n",
    "6. Build a setup to test the waveplates: Find a position at which the half-waveplates rotate the incident polarization by 90∘ .\n",
    "7. Find a position at which the quarter-waveplates produce circular polarized light.\n",
    "8. Perform the experiments sketched in Fig. Fig. 1.3 and Fig. 1.4: set up two quarter wave plates behind each other and find out what they do with the polarization of light passing through both plates. Then take the second quarter wave plate and turn it around on its post by 180∘, so that the beam traverses the wave plate in the opposite direction. Do this for both combinations of input polarization vs.\\ wave plate orientation shown in the figures. What do you expect? What do you observe? Find an explanation for the effects; what is the difference between both experiments?\n",
    "9. Use a mirror to reflect linearly polarized light in a straight angle (> 90∘) and measure the polarization of the reflected light. Repeat for a linear polarization perpendicular to that of the previous experiment. Where does the phase shift of 180∘ occur?\n",
    "10. Send linear polarized light through two quarter wave plates with their axes at 45∘ with respect to the plane of polarization and check the output polarization (either case of Fig. 1.3 or Fig. 1.4). Now change the setup to contain a mirror between the two waveplates which reflects the light at a straight angle ( > 90∘). Check the output polarization again. Explain your observations."
   ]
  },
  {
   "cell_type": "markdown",
   "id": "851a7483-d62c-4cb5-9f32-715171af5969",
   "metadata": {},
   "source": [
    "### Data & Observations\n",
    "1. We expect to find an angle dependent on the correlation of $\\Theta_B = \\arctan\\left(\\frac{n_2}{n_1}\\right)$. We get an angle of: $  $\n",
    "2. Depending on the polarization of light after reflection under the brewster's angle, it may be transmitted if the polarization lines up with the plane of incidence, or more reflected if it is perpendicular. Thus ...\n",
    "3. The polarization axis of the polarizer is aligned with the polarization of the reflected light when the intensity of the light passing through the polarizer is maximized. Similary we rotate the PBS until the reflected light is maximized in one output port and minimized in the other.\n",
    "4. Check for a change in intensity when using a polarizer at different angles.\n",
    "5. Beam Splitters: These devices divide incoming light into two parts, which can be reflected and transmitted light. The behavior towards polarization can vary based on the type of beam splitter.\n",
    "Polarizing Beam Splitters: Specifically designed to separate light into two beams of orthogonal polarization states. One polarization state (e.g., s-polarized light) is transmitted, and the orthogonal state (e.g., p-polarized light) is reflected. For a PBS, you'll find that light in one path is completely blocked by a polarizer at a certain orientation, while in the orthogonal orientation, it is fully transmitted. This confirms the PBS is separating the light into two orthogonal polarization states.\n",
    "For a non-polarizing BS, both paths should allow light to pass through polarizers in any orientation, although the intensity might vary slightly due to imperfections or inherent polarization sensitivity.\n",
    "\n",
    "   "
   ]
  },
  {
   "cell_type": "markdown",
   "id": "4bc9a082-8b42-4fdd-b1cb-ace6ddad981e",
   "metadata": {},
   "source": [
    "### Analysis\n",
    "- Plot intensity vs. angle.\n",
    "- Calculate the degree of polarization."
   ]
  },
  {
   "cell_type": "markdown",
   "id": "45882437-5f05-4f59-8436-e1642ea5430a",
   "metadata": {},
   "source": [
    "## Experiment 2: Electro-Optic Effect\n",
    "\n",
    "### Objective\n",
    "To observe the changes in the refractive index of a crystal under an electric field (Pockels effect).\n",
    "\n",
    "### Theory\n",
    "Explanation of the electro-optic effect, particularly the linear dependency of the refractive index on the electric field (Pockels effect).\n",
    "\n",
    "### Procedure\n",
    "1. Measure the amplification factor of the high voltage amplifier / power supply.\n",
    "    input voltage 0V ~ 10V, output voltage 0V ~ 3kV, voltage pockels cell < 2kV\n",
    "    -> Use between 0V and 1.8kV\n",
    "   \n",
    "2. Set up the funtion generator and the oscilloscope for the following series of expermients\n",
    "3. Mach Zehnder interferometer\n",
    "       Focusing on a single maximum allows for clear detection of changes in the interference pattern's intensity, which directly correlates to phase shifts. This is essential for measuring small phase differences accurately.\n",
    "Increased Fringe Spacing: Wider fringe spacing simplifies the alignment of the photodiode to detect only one fringe and improves the resolution of measurements, making it easier to detect slight shifts in the pattern.|"
   ]
  },
  {
   "cell_type": "markdown",
   "id": "7d429f81-d036-4761-9f93-20113b893338",
   "metadata": {},
   "source": [
    "### Data & Observations\n",
    "- Table for voltage vs. transmitted light intensity.\n",
    "- Notes on the observed changes in light polarization."
   ]
  },
  {
   "cell_type": "markdown",
   "id": "03bd5f34-ea2f-4868-9e23-6a954be4cd0c",
   "metadata": {},
   "source": [
    "### Analysis\n",
    "- Plot transmitted intensity vs. applied voltage.\n",
    "- Determine the half-wave voltage for the Pockels cell."
   ]
  },
  {
   "cell_type": "markdown",
   "id": "ca837807-44ec-4492-a67f-c42280367b6e",
   "metadata": {},
   "source": [
    "## Experiment 3: Acousto-Optic Effect\n",
    "\n",
    "### Objective\n",
    "To study the modulation of light by sound waves and observe the diffraction patterns produced.\n",
    "\n",
    "### Theory\n",
    "Overview of how sound waves create periodic variations in the refractive index of a medium, leading to the acousto-optic effect.\n",
    "\n",
    "### Procedure\n",
    "1. Measure the amplification factor of the high voltage amplifier / power supply.\n",
    "    input voltage 0V ~ 10V, output voltage 0V ~ 3kV, voltage pockels cell < 2kV\n",
    "    -> Use between 0V and 1.8kV\n",
    "   \n",
    "2. Set up the funtion generator and the oscilloscope for the following series of expermients\n",
    "3. Mach Zehnder interferometer\n",
    "       Focusing on a single maximum allows for clear detection of changes in the interference pattern's intensity, which directly correlates to phase shifts. This is essential for measuring small phase differences accurately.\n",
    "Increased Fringe Spacing: Wider fringe spacing simplifies the alignment of the photodiode to detect only one fringe and improves the resolution of measurements, making it easier to detect slight shifts in the pattern.|"
   ]
  },
  {
   "cell_type": "markdown",
   "id": "271120a7-d4f4-491e-88cc-69d23c0f0963",
   "metadata": {},
   "source": [
    "### Data & Observations\n",
    "- Table for sound frequency/amplitude vs. diffraction pattern characteristics.\n",
    "- Comments on the diffraction orders observed."
   ]
  },
  {
   "cell_type": "markdown",
   "id": "bf8aeeb0-fafd-4bb6-8056-5b1ea99bb181",
   "metadata": {},
   "source": [
    "### Analysis\n",
    "- Analyze the relationship between sound wave properties and the diffraction pattern.\n",
    "- Calculate the sound velocity in the medium if possible."
   ]
  },
  {
   "cell_type": "markdown",
   "id": "c64f1bbc",
   "metadata": {},
   "source": [
    "## Conclusion\n",
    "Summarize the findings from the experiments and discuss their implications on the understanding of optical effects."
   ]
  },
  {
   "cell_type": "code",
   "execution_count": null,
   "id": "18e31fde-fd7d-4d8d-bc7e-49e05e5f1c10",
   "metadata": {},
   "outputs": [],
   "source": []
  }
 ],
 "metadata": {
  "kernelspec": {
   "display_name": "Python 3 (ipykernel)",
   "language": "python",
   "name": "python3"
  },
  "language_info": {
   "codemirror_mode": {
    "name": "ipython",
    "version": 3
   },
   "file_extension": ".py",
   "mimetype": "text/x-python",
   "name": "python",
   "nbconvert_exporter": "python",
   "pygments_lexer": "ipython3",
   "version": "3.12.1"
  }
 },
 "nbformat": 4,
 "nbformat_minor": 5
}

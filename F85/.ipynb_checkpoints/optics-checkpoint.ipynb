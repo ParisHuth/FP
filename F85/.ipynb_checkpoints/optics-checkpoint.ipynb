{
 "cells": [
  {
   "cell_type": "markdown",
   "id": "e31f33f1-5d5b-413b-820c-0ac05d1958f0",
   "metadata": {},
   "source": [
    "# OPTIK FP\n",
    "PARIS J HUTH - Q'INICH FIGUEROA"
   ]
  },
  {
   "cell_type": "markdown",
   "id": "87475244-3c6b-4306-bdab-3db19fefc714",
   "metadata": {},
   "source": [
    "## Part 1: Polarization optics"
   ]
  },
  {
   "cell_type": "markdown",
   "id": "704c2bd3-954a-4685-9137-ef03e9bb6c38",
   "metadata": {},
   "source": [
    "How do we characterize the polarization of light?"
   ]
  },
  {
   "cell_type": "markdown",
   "id": "019f33d7-c628-4e71-b899-e526b6b797fe",
   "metadata": {},
   "source": [
    "Light can be described as an electromegnetic wave. Traveling wrt z as $E \\left(z,t\\right) = E_0 e^{i\\left(\\omega t - kz \\right)}$ with $k = 2\\pi / \\lambda$. \\\\\n",
    "The direction of oszillation of the electric field or the polarization vector $\\vec{P}$ specifies the kind of polirization:\n",
    "- Linear: Electric field oscillates along a straight line in the plane of polarization.\n",
    "- Elliptic: Electric field describes an ellipse. If alligned with the coordinates one gets: $\\vec{E}_\\pm = E \\left(a\\hat{e}_x \\mp ib\\hat{e}_y\\right)e^{i\\left(\\omega t - kx\\right)}$\n",
    "- Circular: Special case of elliptic, where the electric field describes a cyrcle."
   ]
  },
  {
   "cell_type": "markdown",
   "id": "731780b8-633d-4b33-8d62-88f60b467450",
   "metadata": {},
   "source": [
    "The interaction of kinds of polarized light with each other is notable. \n",
    "Linear polarized light can be split up, or comprised of two other linear waves that are in phase $\\vec{E} = \\vec{E}_1 + \\vec{E}_2$, or also be constructed by adding two counter-rotatingcircular polarized waves.\n",
    "\n",
    "Similarly elliptical light can be a superposition of two linear polarized waves with a phase shift of $\\pi /2$, where the amplitude of each wave determines the amplitude of the main axis. Thus for waves with equal amplitude one obtaines a circular wave."
   ]
  },
  {
   "cell_type": "markdown",
   "id": "81d1337b-95f8-4f88-9eb3-97364c57a0da",
   "metadata": {},
   "source": [
    "How do we manipulate the polarization of light?"
   ]
  },
  {
   "cell_type": "markdown",
   "id": "a07de6ce-e84b-4c27-9cb9-494e7cdb814a",
   "metadata": {},
   "source": [
    "Waves plates: birefringetn crystals of a thickness of $\\left(m + \\frac{1}{4}\\right)\\lambda$ (quarter wave plate) or $\\left(m + \\frac{1}{2}\\right)\\lambda$ (half wave plate), where m is an integer. \n",
    "\n",
    "Half wave plate: Waves traveling along different optical axes experience a phase shift of $\\pi$ relative to each other. Linear light would leave this plate again linear but rotated by twice the angle it entered the wave plate.\n",
    "\n",
    "Quarter wave plate: Results in a phase shift of $\\pi /2$. Resulting in a linear wave to convert into an elliptical wave or vice versa. For an incidence angle of $45^\\circ$ one obtaines circular light."
   ]
  },
  {
   "cell_type": "markdown",
   "id": "ef43965d-af3b-4a94-8cf5-81df3ae63b56",
   "metadata": {},
   "source": [
    "How do we show that light is polarized?"
   ]
  },
  {
   "cell_type": "code",
   "execution_count": null,
   "id": "7bef35d3-7e99-42fb-b690-cf8d12e7c6be",
   "metadata": {},
   "outputs": [],
   "source": []
  },
  {
   "cell_type": "code",
   "execution_count": null,
   "id": "4559fdd4-062e-4c5a-b851-c88a24bda011",
   "metadata": {},
   "outputs": [],
   "source": []
  },
  {
   "cell_type": "markdown",
   "id": "32a0f7ea-3a00-401a-8171-17efb1e7bc7e",
   "metadata": {},
   "source": [
    "### Experiments:\n",
    "1. Die Laser Quelle ist bereits linear polarisiert. Wir überprüfen mit der Glasscheibe die Richtung der polarisation. Wir finden ein intensitätsminima bei einer etwa senkrechten aufteilung der Strahlen nach unten. Dementsprechend ist die Quelle horizontal lineaer polarisiert.\n",
    "\n",
    "    Wäre die Quelle nicht polarisiert so wäre das relektierte bzw transmittierte Licht durch den Brewster angle vollständig polarisiert.\n",
    "\n",
    "2. Die Beobachtung nach der 2. Glasplatte sind anlog zu den der 1. Glasplatte, da die Quelle bereits vollständig polarisiert ist. Wäre dies nicht polarisert, so wäre das Licht nach der 1. Platte vollständig polarisert, sodass je nach orientierung der 2. Platte intensitäts Minima bzw. Maxima zu betrachten wären.\n",
    "3. Die Polarizer können direkt am Laster kalibriert werden, da dieser polarisiert ist. Beide Poli-Filter werden bi zu einem Intensitätsminima justiert, welches jeweils bei $90^\\circ$ und $270^\\circ$ auftaucht.\n",
    "4. Wenn man Beamspliter vor Laser stellt wird der Strahl in horizontal und vertikal Polarisation aufgeteilt. Hierbei ist der ABgelenkte Strahl intensiv, und entspricht der horizontalen komponent. Der transmitierte Teil wird dementsprechend minimal.\n",
    "\n",
    "    Die Kalibration der PBS findet auch über die Intensität statt. Wir minimieren bzw maximieren den aufgeteilten Strahl, welcher linear polarisiert ist. Dies kann auf die resnel Gleichung (1) zurück geführt werden, welche eine winkelabhängige Transmission bzw Reflexionsrate beschreibt.\n",
    "\n",
    "5. Die Rotation über die half wave plate findet über den doppelten Winkel der Wave plate statt. Stellt man die half wave plate auf $45^\\circ$ so beeinflusst der $90^\\circ$ Poli-Filter die Intesität nicht mehr, was auf eine Rotation um $90^\\circ$ hinweist.\n",
    "\n",
    "6. Für einen Winkel von $45^\\circ$  Produziert die quarter wave plate ciruläres Licht. Verwendet man den BS, so haben die aufgeteilten strahlen nun die selbe intensität.\n",
    "\n",
    "7. (TODO with quarter wave plates) Wenn beide half wave Platten die selbe Orientierung haben erwarten wir keine änderung der Intensität da die wave plate das Licht über die doppelte Winkeldifferenz roterit, weshalb die 2. Plate den Strahl in seine Ausgangsroation zurück versetzt.\n",
    "\n",
    "   Rotert man eine Wave Plate nun um $180^\\circ$ so ist der resultierende Strahl identisch zu dem nach der 1. Wave Plate ... -> Tatsächlich nicht der fall!\n",
    "\n",
    "8. Wenn man das Licht um $90^\\circ$ reflektiert merkt man kein Änderung an der Polarisation, noch bei horizontaler weder bei vertikaler polarisation.\n",
    "   Erweiterung: Reflektieren wir das licht senkrecht, sowie wir es für den Brewster Winkel getahen haben, so erhalten wir den $180^\\circ$ phase shift.\n",
    "\n",
    "9. Wir erhalten durch beide quarter wave plates einen gesammten phase shift von $\\pi$ , und verhält sich dementsprechend wie eine half wave plate, sodass das linear polarisiert Lich um $90^\\circ$ rotiert wird.\n",
    "    Erweiterung: Das Licht wird zwischen den Platten zu Zyrkulären Licht konvertiert, und wieder zurück zu linearem.\n",
    "\n",
    "10. Durch 1. Wave plate reflektieren wir nun zyrkuläres licht. Zwar wird der vertikale Teil nicht durch die Reflektion beeinflusst, jedoch bbeeinflusst diese den horizontalen Teil, sodass wir elliptisches licht ehlaten, welches nach der 2. Platter weiterhin elliptisch ist.\n",
    "11. Wir erwarten eine $90^\\circ$ rotation da durch die quarter wave plate linear in zyklular  und zurück gewandelt wird, jedoch durch die Reflektion die Richutng der zyrkulären polirisation geändert wurde. Tatsächlich finden wir auch eine Rotation um $90^\\circ$. Mit der half wave plate bleibt das Licht linear und wird von der Reflektion nicht beeinflusst (unter der richtigen konfiguration der wave plate), sodass nach der 2. Drchquerung unser initiales licht vorliegt.\n",
    "\n",
    "    komment: Für Winkel not eq. 45° wird elliptische pol. licht reflektieren sodass eine rücktrafo nicht möglich ist.\n",
    "\n",
    "\n",
    "    Das spiegeln 'ndert die h'ndigkeit ywischen den wave plates\n",
    "\n",
    "    180° drehung geht mit yzrkul'r aber nicht mit linear\n",
    "13. Man beobachtet dass be ein Ende nur oranges Licht durch get, während bei der anderen gründes licht durch geht"
   ]
  },
  {
   "cell_type": "markdown",
   "id": "bc2ea799-a23b-4b20-8240-bba7beac6438",
   "metadata": {},
   "source": [
    "Questions to elaborate on:\n",
    "4. how do beam splitters work?\n",
    "\n",
    "Tasks we might not have done right:\n",
    "Perform the experiments sketched in Fig. Fig. 1.3 and Fig. 1.4: set up two quarter wave plates behind each other and find out what they do with the polarization of light passing through both plates. Then take the second quarter wave plate and turn it around on its post by 180∘, so that the beam traverses the wave plate in the opposite direction. Do this for both combinations of input polarization vs.\\ wave plate orientation shown in the figures. What do you expect? What do you observe? Find an explanation for the effects; what is the difference between both experiments?\n",
    "\n",
    "Send linear polarized light through two quarter wave plates with their axes at 45∘ with respect to the plane of polarization and check the output polarization (either case of Fig. 1.3 or Fig. 1.4). Now change the setup to contain a mirror between the two waveplates which reflects the light at a straight angle ( > 90∘). Check the output polarization again. Explain your observations."
   ]
  },
  {
   "cell_type": "markdown",
   "id": "c4bf75c4-eb96-4e3f-889d-aa571d8314c6",
   "metadata": {},
   "source": [
    "### Part 2. Electro optic effect"
   ]
  },
  {
   "cell_type": "markdown",
   "id": "7fe2e634-5705-42b4-a3e8-35d222c2c160",
   "metadata": {},
   "source": [
    "Wir verbinden den DC Power supplz mit dem high voltage ext. input und betracten die Spannungsübersetzung:"
   ]
  },
  {
   "cell_type": "code",
   "execution_count": 24,
   "id": "94e8a092-6c1a-4ec0-bd3d-d0d2293d546e",
   "metadata": {},
   "outputs": [],
   "source": [
    "import numpy as np\n",
    "import matplotlib.pyplot as plt\n",
    "from scipy.optimize import curve_fit\n",
    "\n",
    "def linear_model(x, a, b):\n",
    "    return a * x + b"
   ]
  },
  {
   "cell_type": "code",
   "execution_count": 25,
   "id": "eb04ec1c-9d54-4883-8138-d9f992679f8e",
   "metadata": {},
   "outputs": [],
   "source": [
    "Uin = np.array([0,0.1,0.2,0.3,0.5,0.6,0.8,1,1.2,1.5,2,2.7,3.5,2.4,4,4.8,5.1,5.5,5.8,6.1,6,5.9])\n",
    "Uout = np.array([0.01,0.03,0.05,0.1,0.14,0.18,0.24,0.3,0.35,0.43,0.6,0.81,1.02,0.69,1.17,1.41,1.5,1.6,1.7,1.8,1.77,1.74])\n",
    "dUin = np.ones(len(Uin))*0.1\n",
    "dUout = np.ones(len(Uout))*0.01\n",
    "\n",
    "sort_indices = np.argsort(Uin)\n",
    "\n",
    "Uin = Uin[sort_indices]\n",
    "Uout= Uout[sort_indices]\n",
    "\n",
    "popt, pcov = curve_fit(linear_model, Uin, Uout)"
   ]
  },
  {
   "cell_type": "code",
   "execution_count": 37,
   "id": "c71fc1ad-f8c1-48ed-8495-0fa524277113",
   "metadata": {},
   "outputs": [
    {
     "name": "stdout",
     "output_type": "stream",
     "text": [
      "Versärkung: 293.51 +/- 1.33\n"
     ]
    },
    {
     "data": {
      "text/plain": [
       "<matplotlib.legend.Legend at 0x13ea13050>"
      ]
     },
     "execution_count": 37,
     "metadata": {},
     "output_type": "execute_result"
    },
    {
     "data": {
      "image/png": "[encoded data removed]",
      "text/plain": [
       "<Figure size 640x480 with 1 Axes>"
      ]
     },
     "metadata": {},
     "output_type": "display_data"
    }
   ],
   "source": [
    "plt.errorbar(Uin, Uout, dUin, dUout, linestyle = 'None', fmt='o', label='data')\n",
    "plt.plot(Uin, linear_model(Uin, *popt), 'r-', label=\"Fit\")\n",
    "\n",
    "print('Versärkung: ' + str(round(popt[0]*1000,2)) + ' +/- ' + str(round(popt[1]*1000,2)))\n",
    "\n",
    "plt.xlabel(\"U_in [V]\")\n",
    "plt.ylabel(\"U_out [kV]\")\n",
    "plt.grid()\n",
    "plt.title(\"Spannungsübersetzung der Hochspannungsquelle\")\n",
    "plt.legend()"
   ]
  },
  {
   "cell_type": "markdown",
   "id": "2b87dfa2-76ac-4957-9423-c493436f38ef",
   "metadata": {},
   "source": [
    "Es findet sich eine Verstärkung um eine Faktor von etwa 300. \n",
    "\n",
    "Die Spannung wird in Sptize Spitze eingestellt, sodass eine Spannung von 12.2V nicht überschritten werden dark.\n",
    "\n",
    "Wir stellen die Amplitude so ein, dass wir mit den Oszilloskop eine Peak to Peak Spannung von 12.2V Messen, mit einer höchstspannung von 6.08V, wobei wir das maximum mittels des DC offsets angepasst haben.\n",
    "\n",
    "Da die hochspannungsquelle keine negativen spannungen nimmt justieren wir das signal so, dass die Spitze Spitze spannung 6.08V beträt, und diese zwischen 0V und etwa 6.1V oszilliert.\n",
    "\n",
    "Wir reduzieren das Interferenzbild auf ein einzelnes Maximum, sodass wir einen festen Messpunkt für die Photodiode bereitstellen können."
   ]
  },
  {
   "cell_type": "code",
   "execution_count": 59,
   "id": "aca02342-01d1-4b46-a862-6269fc390f0f",
   "metadata": {},
   "outputs": [
    {
     "name": "stdout",
     "output_type": "stream",
     "text": [
      "I_p90: 0.26 +/- 0.06\n",
      "U_p90: 0.81 +/- 0.14\n",
      "\n",
      "I_m90: 0.17 +/- 0.01\n",
      "U_m90: 0.92 +/- 0.11\n",
      "\n",
      "deviation I: 1.431130233529506\n",
      "deviation U: 0.6382683791501407\n"
     ]
    }
   ],
   "source": [
    "Ip90 = np.array([0.36,0.32,0.32,0.16,0.24,0.24,0.16,0.24,0.2,0.28,0.28,0.28])\n",
    "Im90 = np.array([0.152,0.152,0.168,0.16,0.168,0.176,0.176,0.2,0.168,0.169])\n",
    "Up90 = np.array([0.8,0.96,0.88,0.8,0.8,0.4,0.72,0.88,0.8,0.96,0.8,0.88])\n",
    "Um90 = np.array([0.96,0.96,1.12,0.88,0.88,0.8,0.72,0.96,0.88,1.04])\n",
    "\n",
    "mIp90 = np.mean(Ip90)\n",
    "stdIp90 = np.std(Ip90)\n",
    "mIm90 = np.mean(Im90)\n",
    "stdIm90 = np.std(Im90)\n",
    "mUp90 = np.mean(Up90)\n",
    "stdUp90 = np.std(Up90)\n",
    "mUm90 = np.mean(Um90)\n",
    "stdUm90 = np.std(Um90)\n",
    "\n",
    "\n",
    "print('I_p90: {:.2f} +/- {:.2f}'.format(mIp90, stdIp90))\n",
    "print('U_p90: {:.2f} +/- {:.2f}'.format(mUp90, stdUp90) + '\\n')\n",
    "print('I_m90: {:.2f} +/- {:.2f}'.format(mIm90, stdIm90))\n",
    "print('U_m90: {:.2f} +/- {:.2f}'.format(mUm90, stdUm90) + '\\n')\n",
    "\n",
    "stdI = np.sqrt(stdIp90**2 + stdIm90**2)\n",
    "stdU = np.sqrt(stdUp90**2 + stdUm90**2)\n",
    "devI = abs(mIp90 - mIm90)/stdI\n",
    "devU = abs(mUp90 - mUm90)/stdU\n",
    "\n",
    "\n",
    "print('deviation I: ' + str(devI))\n",
    "print('deviation U: ' + str(devU))"
   ]
  },
  {
   "cell_type": "markdown",
   "id": "f4967287-b7f0-4809-8409-b5a84a021765",
   "metadata": {},
   "source": [
    "Wir sehen keine signifikante abweichung der gemessenen Werte durch eine 180° rotation der pockels cell."
   ]
  },
  {
   "cell_type": "markdown",
   "id": "2525e18b-3c07-4477-ae0e-681f825c602a",
   "metadata": {},
   "source": [
    "Determine the half wave voltage U_pi for both crystal axes\n",
    "deterine the pockels coefficients r_13 and r_33"
   ]
  },
  {
   "cell_type": "code",
   "execution_count": 61,
   "id": "fb443c54-9c83-4aba-b36d-8589ece34fad",
   "metadata": {},
   "outputs": [
    {
     "name": "stdout",
     "output_type": "stream",
     "text": [
      "U_p45: 1.30 +/- 0.11\n",
      "\n",
      "U_m45: 1.35 +/- 0.09\n",
      "\n",
      "deviation U: 0.31205097389619435\n"
     ]
    }
   ],
   "source": [
    "Up45 = np.array([1.2,1.36,1.28,1.12,1.28,1.28,1.52,1.38])\n",
    "Um45 = np.array([1.36,1.2,1.36,1.44,1.28,1.44])\n",
    "\n",
    "mUp45 = np.mean(Up45)\n",
    "stdUp45 = np.std(Up45)\n",
    "mUm45 = np.mean(Um45)\n",
    "stdUm45 = np.std(Um45)\n",
    "\n",
    "print('U_p45: {:.2f} +/- {:.2f}'.format(mUp45, stdUp45) + '\\n')\n",
    "print('U_m45: {:.2f} +/- {:.2f}'.format(mUm45, stdUm45) + '\\n')\n",
    "\n",
    "stdU45 = np.sqrt(stdUp45**2 + stdUm45**2)\n",
    "devU45 = abs(mUp45 - mUm45)/stdU45\n",
    "\n",
    "print('deviation U: ' + str(devU45))"
   ]
  },
  {
   "cell_type": "markdown",
   "id": "2c26e89f-b6ef-4abf-8e3c-78a4342052c5",
   "metadata": {},
   "source": [
    "determine the half wave voltae V_pi\n",
    "what is different between the p/m cases\n",
    "if int max is not a 0V ... why?\n",
    "calculate V_pi^calc using eq 2.8 and previous values of r_13 and r_33\n",
    "calculate V_pi^calc' from measured U_pi_3 and U_pi_o\n",
    "compare calculated and measured to specifications V_pi = 380V"
   ]
  },
  {
   "cell_type": "markdown",
   "id": "3e530c6c-2899-4032-bf85-83c8a98c1b0f",
   "metadata": {},
   "source": [
    "Wir haben mit den Osyilloskop einen offset bestimmt um den die Intensität und die angelegte Spannung maximal korrelieren, und legen darauf ein möglichst kleines sinus (oder anderes) Signal mit den gemessen Offset an. Kleine Änderungen in der Spannung korrelieren nun direkt zur Änderung der Intensität und Ermöglicht die Modulation des Lichts entsprechend dem Signal.\n",
    "\n",
    "Erhöhen wir den Offset , so ist es möglich den Hochpunkt des Sinus zu erreichen. Dort betrachten wir das eine Änderung der Spannung kaum die Intensität dbeeinträhtigt.\n",
    "Unter verwendung der Filterbox ist es möglich schelle Signale zu Modelieren. Ohne diese waren nur ~10Hz möglich. Bei Signalen die Stufen beinhalten sehen wir die Entladung der Kondensatoren, welche die Darstellung dieser Signale erschwert"
   ]
  },
  {
   "cell_type": "markdown",
   "id": "d64624a5-ebee-4231-a4f7-5e4e9d50caf8",
   "metadata": {},
   "source": [
    "### Part 3. Acousto-optic effect"
   ]
  },
  {
   "cell_type": "code",
   "execution_count": null,
   "id": "f47b9187-5a6c-4adb-833c-12f60192794e",
   "metadata": {},
   "outputs": [],
   "source": []
  }
 ],
 "metadata": {
  "kernelspec": {
   "display_name": "Python 3 (ipykernel)",
   "language": "python",
   "name": "python3"
  },
  "language_info": {
   "codemirror_mode": {
    "name": "ipython",
    "version": 3
   },
   "file_extension": ".py",
   "mimetype": "text/x-python",
   "name": "python",
   "nbconvert_exporter": "python",
   "pygments_lexer": "ipython3",
   "version": "3.12.1"
  }
 },
 "nbformat": 4,
 "nbformat_minor": 5
}

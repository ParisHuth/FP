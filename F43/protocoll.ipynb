{
 "cells": [
  {
   "cell_type": "code",
   "execution_count": 2,
   "metadata": {},
   "outputs": [],
   "source": [
    "import numpy as np \n",
    "import matplotlib.pyplot as plt\n",
    "import pandas as pd"
   ]
  },
  {
   "cell_type": "markdown",
   "metadata": {},
   "source": [
    "We measure the voltage of a Photodiode as at different angles of the .... \n",
    "There seem to be inconsistencies regarding the laser, dropping considerably in intensity."
   ]
  },
  {
   "cell_type": "code",
   "execution_count": 63,
   "metadata": {},
   "outputs": [
    {
     "name": "stdout",
     "output_type": "stream",
     "text": [
      "   angle  voltage\n",
      "0    0.0    -1.67\n",
      "1    1.0    -1.67\n",
      "2    2.0    -1.67\n",
      "3    3.0    -1.73\n",
      "4    4.0    -1.72\n"
     ]
    }
   ],
   "source": [
    "angles = np.array([20, 19, 18, 17, 16, 15, 14, 13, 12, 11, 12.5, 11.5, 12.25,  12.35, 12.15, \n",
    "                   10, 9, 8, 7, 6, 5, 4, 3, 2, 1, 0, 359, 358, 357, 356, 355, 354, 353, 340, 345, 347, \n",
    "                   350, 351, 350.5, 350.25, 350.6, 350.35, 351.5, 352, 349, 348, 330,100, 200, 75,50,\n",
    "                   150, 275, 230, 300, 320]) # degrees\n",
    "voltage = np.array([10.60, 10.44, 10.44, 10.30, 10.41, 10.27, 10.5, 9.60, 4.42, 2.65, 8.91, \n",
    "                    3.32, 7.80, 7.83, 6.46, 1.85, 1.82, 1.80, 1.79, 1.75, 1.75, 1.72, 1.73, \n",
    "                    1.67, 1.67, 1.67, 1.64, 1.57, 1.52, 1.48, 1.47, 1.46, 1.43, 8.80, 8.67, 8.46, 8.21, \n",
    "                    2.84, 5.63, 7.85, 4.15, 7.09, 1.35, 1.10, 7.98, 7.72, 6.79, 1.5, 7.10, 0.75, 5.20,\n",
    "                    6.01, 1.92, 3.50, 1.29, 3.95]) # mV\n",
    "voltage = - voltage\n",
    "# set up pandas dataframe for storing data/easy sorting\n",
    "data = pd.DataFrame()\n",
    "data['angle'] = angles\n",
    "data['voltage'] = voltage\n",
    "\n",
    "# sort data by angle\n",
    "data = data.sort_values(by='angle').reset_index(drop=True)\n",
    "# wrap values above 180 to to negative, such that 359 equiv to -1\n",
    "print(data.head())"
   ]
  },
  {
   "cell_type": "code",
   "execution_count": 64,
   "metadata": {},
   "outputs": [
    {
     "data": {
      "text/plain": [
       "Text(0, 0.5, 'Voltage (mV)')"
      ]
     },
     "execution_count": 64,
     "metadata": {},
     "output_type": "execute_result"
    },
    {
     "data": {
      "image/png": "[encoded data removed]",
      "text/plain": [
       "<Figure size 640x480 with 1 Axes>"
      ]
     },
     "metadata": {},
     "output_type": "display_data"
    }
   ],
   "source": [
    "plt.scatter(data['angle'], data['voltage'])\n",
    "plt.xlabel('Angle (degrees)')\n",
    "plt.ylabel('Voltage (mV)')\n",
    "#plt.xlim(10,15)\n",
    "#plt.xlim(348,352)"
   ]
  },
  {
   "cell_type": "code",
   "execution_count": null,
   "metadata": {},
   "outputs": [],
   "source": [
    "#we use Minuit package to fit a linear function to the measured signal\n",
    "from iminuit import Minuit, cost\n",
    "d_i = 13\n",
    "d_f = 17\n",
    "deg_fit = data[\"angle\"][13:17]\n",
    "u = data[[''][13:17]\n",
    "sigma = np.ones_like(current_fit)\n",
    "#since the measured signal has no uncertainties, we assume all residual to be equally weighted, therefore sigma_y = 1\n",
    "# for all data point in the data set. \n",
    "\n",
    "def linear(x, t0,t1):\n",
    "    return t1*x +t0\n",
    "\n",
    "chi_2 = cost.LeastSquares(current_fit, u_fit, sigma, model = linear)\n",
    "linear.errordef = Minuit.LEAST_SQUARES\n",
    "minuit = Minuit(chi_2, t0=0, t1=0.58)\n",
    "minuit.migrad()\n",
    "minuit.minos()"
   ]
  },
  {
   "cell_type": "code",
   "execution_count": null,
   "metadata": {},
   "outputs": [],
   "source": []
  },
  {
   "cell_type": "code",
   "execution_count": null,
   "metadata": {},
   "outputs": [],
   "source": []
  }
 ],
 "metadata": {
  "kernelspec": {
   "display_name": "base",
   "language": "python",
   "name": "python3"
  },
  "language_info": {
   "codemirror_mode": {
    "name": "ipython",
    "version": 3
   },
   "file_extension": ".py",
   "mimetype": "text/x-python",
   "name": "python",
   "nbconvert_exporter": "python",
   "pygments_lexer": "ipython3",
   "version": "3.12.4"
  }
 },
 "nbformat": 4,
 "nbformat_minor": 2
}
